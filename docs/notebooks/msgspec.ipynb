{
 "cells": [
  {
   "cell_type": "markdown",
   "id": "suspected-backing",
   "metadata": {},
   "source": [
    "# Usage Example: msgspec\n",
    "\n",
    "This notebook shows an example of using erdantic with [msgspec](https://jcristharif.com/msgspec/) structs.\n",
    "\n",
    "Let's take a look at the structs from the `erdantic.examples.msgspec` module. Here's their source code for clarity."
   ]
  },
  {
   "cell_type": "code",
   "execution_count": null,
   "id": "certain-return",
   "metadata": {},
   "outputs": [],
   "source": [
    "import inspect\n",
    "\n",
    "import rich.syntax\n",
    "\n",
    "import erdantic.examples.msgspec\n",
    "\n",
    "rich.syntax.Syntax(\n",
    "    inspect.getsource(erdantic.examples.msgspec), \"python\", theme=\"default\", line_numbers=True\n",
    ")"
   ]
  },
  {
   "cell_type": "markdown",
   "id": "pharmaceutical-isaac",
   "metadata": {},
   "source": [
    "## Using the CLI\n",
    "\n",
    "The fastest way to rendering a diagram is to use the command-line interface. Below we use IPython's `!` to run a command in the system shell. We pass the full dotted path to the root class of our composition hierarchy, along with an output file path. erdantic will walk the composition graph to find all child classes. "
   ]
  },
  {
   "cell_type": "code",
   "execution_count": null,
   "id": "fundamental-digit",
   "metadata": {},
   "outputs": [],
   "source": [
    "!erdantic erdantic.examples.msgspec.Party -o diagram.png"
   ]
  },
  {
   "cell_type": "markdown",
   "id": "freelance-furniture",
   "metadata": {},
   "source": [
    "The format rendered is inferred from the file extension."
   ]
  },
  {
   "cell_type": "markdown",
   "id": "configured-resistance",
   "metadata": {},
   "source": [
    "## Using the Python library\n",
    "\n",
    "You can also use the erdantic Python library, which lets you inspect the diagram object. The diagram object contains all of the data that erdantic extracted about the model you provide, as well as any related models. As demonstrated below, the diagram object automatically pretty-prints in IPython or Jupyter notebooks and even automatically renders in Jupyter notebooks."
   ]
  },
  {
   "cell_type": "code",
   "execution_count": null,
   "id": "offshore-shape",
   "metadata": {},
   "outputs": [],
   "source": [
    "import erdantic as erd\n",
    "from erdantic.examples.msgspec import Party\n",
    "\n",
    "diagram = erd.create(Party)\n",
    "diagram"
   ]
  },
  {
   "cell_type": "markdown",
   "id": "0589b83b",
   "metadata": {},
   "source": [
    "### Inspecting the data"
   ]
  },
  {
   "cell_type": "markdown",
   "id": "0daf9dcf",
   "metadata": {},
   "source": [
    "The `models` attribute gives you access to a dictionary of `ModelInfo` objects that contain the data for each model in the diagram. All of erdantic's data objects are Pydantic models. \n",
    "\n",
    "<div class=\"admonition tip\">\n",
    "<p class=\"admonition-title\">Tip</p>\n",
    "<p>\n",
    "    If you have the <a href=\"https://github.com/Textualize/rich\">rich</a> library installed, the IPython/Jupyter representation of erdantic's data objects will be nicely colored.\n",
    "</p>\n",
    "</div>"
   ]
  },
  {
   "cell_type": "code",
   "execution_count": null,
   "id": "wired-integrity",
   "metadata": {},
   "outputs": [],
   "source": [
    "list(diagram.models.keys())"
   ]
  },
  {
   "cell_type": "code",
   "execution_count": null,
   "id": "b5208819",
   "metadata": {},
   "outputs": [],
   "source": [
    "diagram.models[\"erdantic.examples.msgspec.Party\"]"
   ]
  },
  {
   "cell_type": "markdown",
   "id": "97deba68",
   "metadata": {},
   "source": [
    "And the `edges` attribute gives you access to a dictionary of `Edge` objects that contain the data for each relationship between the models."
   ]
  },
  {
   "cell_type": "code",
   "execution_count": null,
   "id": "broadband-sender",
   "metadata": {},
   "outputs": [],
   "source": [
    "list(diagram.edges.keys())"
   ]
  },
  {
   "cell_type": "code",
   "execution_count": null,
   "id": "bd731a17",
   "metadata": {},
   "outputs": [],
   "source": [
    "diagram.edges[\"erdantic.examples.msgspec.Party-members-erdantic.examples.msgspec.Adventurer\"]"
   ]
  },
  {
   "cell_type": "markdown",
   "id": "e13fd4ad",
   "metadata": {},
   "source": [
    "### Rendering the diagram to an image file"
   ]
  },
  {
   "cell_type": "markdown",
   "id": "middle-black",
   "metadata": {},
   "source": [
    "You can use the `draw` method to render the diagram to disk."
   ]
  },
  {
   "cell_type": "code",
   "execution_count": null,
   "id": "interpreted-pickup",
   "metadata": {},
   "outputs": [],
   "source": [
    "diagram.draw(\"diagram.svg\")\n",
    "\n",
    "# Equivalently, use erd.draw directly from Party\n",
    "# erd.draw(Party, out=\"diagram.svg\")"
   ]
  },
  {
   "cell_type": "markdown",
   "id": "assisted-sponsorship",
   "metadata": {},
   "source": [
    "erdantic uses [Graphviz](https://graphviz.org/), a well-established open-source C library, to create the diagram. Graphviz uses the [DOT language](https://graphviz.org/doc/info/lang.html) for describing graphs. You use the `to_dot` method to get the DOT representation as a string. "
   ]
  },
  {
   "cell_type": "code",
   "execution_count": null,
   "id": "opened-shelf",
   "metadata": {},
   "outputs": [],
   "source": [
    "print(diagram.to_dot())\n",
    "\n",
    "# Equivalently, use erd.to_dot directly from Party\n",
    "assert diagram.to_dot() == erd.to_dot(Party)"
   ]
  },
  {
   "cell_type": "markdown",
   "id": "unlikely-louisiana",
   "metadata": {},
   "source": [
    "## Terminal Models\n",
    "\n",
    "If you have an enormous composition graph and want to chop it up, you can make that work by specifying models to be terminal nodes.\n",
    "\n",
    "For the CLI, use the `-t` option to specify a model to be a terminus. To specify more than one, used repeated `-t` options. So, for example, if you want one diagram rooted by `Party` that terminates at `Quest`, and another diagram that is rooted by `Quest`, you can use the following two shell commands.\n",
    "\n",
    "```bash\n",
    "erdantic erdantic.examples.msgspec.Party \\ \n",
    "    -t erdantic erdantic.examples.msgspec.Quest \\\n",
    "    -o party.png\n",
    "erdantic erdantic.examples.msgspec.Quest -o quest.png\n",
    "```"
   ]
  },
  {
   "cell_type": "markdown",
   "id": "contrary-composer",
   "metadata": {},
   "source": [
    "When using the Python library, pass your terminal node in a list to the `terminal_models` keyword argument. Below is the Python code for creating diagrams equivalent to the above shell commands."
   ]
  },
  {
   "cell_type": "code",
   "execution_count": null,
   "id": "rough-highlight",
   "metadata": {},
   "outputs": [],
   "source": [
    "from erdantic.examples.msgspec import Quest\n",
    "\n",
    "diagram1 = erd.create(Party, terminal_models=[Quest])\n",
    "diagram1"
   ]
  },
  {
   "cell_type": "code",
   "execution_count": null,
   "id": "psychological-defendant",
   "metadata": {},
   "outputs": [],
   "source": [
    "diagram2 = erd.create(Quest)\n",
    "diagram2"
   ]
  }
 ],
 "metadata": {
  "kernelspec": {
   "display_name": "Python 3 (ipykernel)",
   "language": "python",
   "name": "python3"
  },
  "language_info": {
   "codemirror_mode": {
    "name": "ipython",
    "version": 3
   },
   "file_extension": ".py",
   "mimetype": "text/x-python",
   "name": "python",
   "nbconvert_exporter": "python",
   "pygments_lexer": "ipython3",
   "version": "3.11.8"
  }
 },
 "nbformat": 4,
 "nbformat_minor": 5
}
