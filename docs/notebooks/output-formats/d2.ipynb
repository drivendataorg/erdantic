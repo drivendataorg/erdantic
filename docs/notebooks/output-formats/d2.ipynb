{
 "cells": [
  {
   "cell_type": "markdown",
   "id": "5e1cd05c",
   "metadata": {},
   "source": [
    "# D2 Output"
   ]
  },
  {
   "cell_type": "markdown",
   "id": "ad62495f",
   "metadata": {},
   "source": [
    "We support the [D2 diagramming language](https://d2lang.com/) as an output format. "
   ]
  },
  {
   "cell_type": "markdown",
   "id": "60be0271",
   "metadata": {},
   "source": [
    "## CLI\n",
    "\n",
    "To generate D2 language output, use the `--d2` flag."
   ]
  },
  {
   "cell_type": "code",
   "execution_count": null,
   "id": "9c4990d6",
   "metadata": {},
   "outputs": [
    {
     "name": "stdout",
     "output_type": "stream",
     "text": [
      "2025-09-15 13:35:17,870 | erdantic.core | INFO | Adding model 'erdantic.examples.pydantic.Party' to diagram...\n",
      "\"Adventurer\": {\n",
      "  shape: class\n",
      "  +name: str\n",
      "  +profession: str\n",
      "  +alignment: Alignment\n",
      "  +level: int\n",
      "}\n",
      "\n",
      "\"Party\": {\n",
      "  shape: class\n",
      "  +name: str\n",
      "  +formed_datetime: datetime\n",
      "  +members: \"list[Adventurer]\"\n",
      "  +active_quest: \"Optional[Quest]\"\n",
      "}\n",
      "\n",
      "\"Quest\": {\n",
      "  shape: class\n",
      "  +name: str\n",
      "  +giver: QuestGiver\n",
      "  +reward_gold: int\n",
      "}\n",
      "\n",
      "\"QuestGiver\": {\n",
      "  shape: class\n",
      "  +name: str\n",
      "  +faction: \"Optional[str]\"\n",
      "  +location: str\n",
      "}\n",
      "\n",
      "\"Party\" -> \"Quest\": \"active_quest\" {\n",
      "  target-arrowhead.shape: cf-one\n",
      "}\n",
      "\n",
      "\"Party\" -> \"Adventurer\": \"members\" {\n",
      "  target-arrowhead.shape: cf-many\n",
      "}\n",
      "\n",
      "\"Quest\" -> \"QuestGiver\": \"giver\" {\n",
      "  target-arrowhead.shape: cf-one-required\n",
      "}\n",
      "\n"
     ]
    }
   ],
   "source": [
    "!erdantic erdantic.examples.pydantic.Party --d2"
   ]
  },
  {
   "cell_type": "markdown",
   "id": "ccd16962",
   "metadata": {},
   "source": [
    "## Python library\n",
    "\n",
    "To generate D2 output using the Python library, use the `to_d2` method on `EntityRelationshipDiagram`. "
   ]
  },
  {
   "cell_type": "code",
   "execution_count": null,
   "id": "a43856a1",
   "metadata": {},
   "outputs": [
    {
     "name": "stdout",
     "output_type": "stream",
     "text": [
      "\"Adventurer\": {\n",
      "  shape: class\n",
      "  +name: str\n",
      "  +profession: str\n",
      "  +alignment: Alignment\n",
      "  +level: int\n",
      "}\n",
      "\n",
      "\"Party\": {\n",
      "  shape: class\n",
      "  +name: str\n",
      "  +formed_datetime: datetime\n",
      "  +members: \"list[Adventurer]\"\n",
      "  +active_quest: \"Optional[Quest]\"\n",
      "}\n",
      "\n",
      "\"Quest\": {\n",
      "  shape: class\n",
      "  +name: str\n",
      "  +giver: QuestGiver\n",
      "  +reward_gold: int\n",
      "}\n",
      "\n",
      "\"QuestGiver\": {\n",
      "  shape: class\n",
      "  +name: str\n",
      "  +faction: \"Optional[str]\"\n",
      "  +location: str\n",
      "}\n",
      "\n",
      "\"Party\" -> \"Quest\": \"active_quest\" {\n",
      "  target-arrowhead.shape: cf-one\n",
      "}\n",
      "\n",
      "\"Party\" -> \"Adventurer\": \"members\" {\n",
      "  target-arrowhead.shape: cf-many\n",
      "}\n",
      "\n",
      "\"Quest\" -> \"QuestGiver\": \"giver\" {\n",
      "  target-arrowhead.shape: cf-one-required\n",
      "}\n",
      "\n"
     ]
    }
   ],
   "source": [
    "import erdantic as erd\n",
    "from erdantic.examples.pydantic import Party\n",
    "\n",
    "diagram = erd.create(Party)\n",
    "\n",
    "print(diagram.to_d2())"
   ]
  }
 ],
 "metadata": {
  "kernelspec": {
   "display_name": "default",
   "language": "python",
   "name": "python3"
  },
  "language_info": {
   "codemirror_mode": {
    "name": "ipython",
    "version": 3
   },
   "file_extension": ".py",
   "mimetype": "text/x-python",
   "name": "python",
   "nbconvert_exporter": "python",
   "pygments_lexer": "ipython3",
   "version": "3.13.5"
  }
 },
 "nbformat": 4,
 "nbformat_minor": 5
}
