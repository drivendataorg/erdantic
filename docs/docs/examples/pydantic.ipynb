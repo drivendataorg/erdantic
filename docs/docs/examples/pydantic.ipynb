{
 "cells": [
  {
   "cell_type": "markdown",
   "id": "subtle-dodge",
   "metadata": {},
   "source": [
    "# Usage Example: Pydantic\n",
    "\n",
    "This notebook shows an example of using erdantic with [Pydantic](https://pydantic-docs.helpmanual.io/) models.\n",
    "\n",
    "Let's take a look at the models from the `erdantic.examples.pydantic` module. Here's their source code for clariy."
   ]
  },
  {
   "cell_type": "code",
   "execution_count": 1,
   "id": "national-removal",
   "metadata": {},
   "outputs": [
    {
     "data": {
      "text/plain": [
       "\u001b[0;31mType:\u001b[0m        module\n",
       "\u001b[0;31mString form:\u001b[0m <module 'erdantic.examples.pydantic' from '/Users/jqi/repos/erdantic/erdantic/examples/pydantic.py'>\n",
       "\u001b[0;31mFile:\u001b[0m        ~/repos/erdantic/erdantic/examples/pydantic.py\n",
       "\u001b[0;31mSource:\u001b[0m     \n",
       "\u001b[0;34m\"\"\"Example data model classes using [Pydantic](https://pydantic-docs.helpmanual.io/).\"\"\"\u001b[0m\u001b[0;34m\u001b[0m\n",
       "\u001b[0;34m\u001b[0m\u001b[0;34m\u001b[0m\n",
       "\u001b[0;34m\u001b[0m\u001b[0;32mfrom\u001b[0m \u001b[0mdatetime\u001b[0m \u001b[0;32mimport\u001b[0m \u001b[0mdatetime\u001b[0m\u001b[0;34m\u001b[0m\n",
       "\u001b[0;34m\u001b[0m\u001b[0;32mfrom\u001b[0m \u001b[0menum\u001b[0m \u001b[0;32mimport\u001b[0m \u001b[0mEnum\u001b[0m\u001b[0;34m\u001b[0m\n",
       "\u001b[0;34m\u001b[0m\u001b[0;32mfrom\u001b[0m \u001b[0mtyping\u001b[0m \u001b[0;32mimport\u001b[0m \u001b[0mList\u001b[0m\u001b[0;34m,\u001b[0m \u001b[0mOptional\u001b[0m\u001b[0;34m\u001b[0m\n",
       "\u001b[0;34m\u001b[0m\u001b[0;34m\u001b[0m\n",
       "\u001b[0;34m\u001b[0m\u001b[0;32mfrom\u001b[0m \u001b[0mpydantic\u001b[0m \u001b[0;32mimport\u001b[0m \u001b[0mBaseModel\u001b[0m\u001b[0;34m\u001b[0m\n",
       "\u001b[0;34m\u001b[0m\u001b[0;34m\u001b[0m\n",
       "\u001b[0;34m\u001b[0m\u001b[0;34m\u001b[0m\n",
       "\u001b[0;34m\u001b[0m\u001b[0;32mclass\u001b[0m \u001b[0mAlignmentLC\u001b[0m\u001b[0;34m(\u001b[0m\u001b[0mstr\u001b[0m\u001b[0;34m,\u001b[0m \u001b[0mEnum\u001b[0m\u001b[0;34m)\u001b[0m\u001b[0;34m:\u001b[0m\u001b[0;34m\u001b[0m\n",
       "\u001b[0;34m\u001b[0m    \u001b[0mLAWFUL\u001b[0m \u001b[0;34m=\u001b[0m \u001b[0;34m\"lawful\"\u001b[0m\u001b[0;34m\u001b[0m\n",
       "\u001b[0;34m\u001b[0m    \u001b[0mNEUTRAL\u001b[0m \u001b[0;34m=\u001b[0m \u001b[0;34m\"neutral\"\u001b[0m\u001b[0;34m\u001b[0m\n",
       "\u001b[0;34m\u001b[0m    \u001b[0mCHAOTIC\u001b[0m \u001b[0;34m=\u001b[0m \u001b[0;34m\"chaotic\"\u001b[0m\u001b[0;34m\u001b[0m\n",
       "\u001b[0;34m\u001b[0m\u001b[0;34m\u001b[0m\n",
       "\u001b[0;34m\u001b[0m\u001b[0;34m\u001b[0m\n",
       "\u001b[0;34m\u001b[0m\u001b[0;32mclass\u001b[0m \u001b[0mAlignmentGE\u001b[0m\u001b[0;34m(\u001b[0m\u001b[0mstr\u001b[0m\u001b[0;34m,\u001b[0m \u001b[0mEnum\u001b[0m\u001b[0;34m)\u001b[0m\u001b[0;34m:\u001b[0m\u001b[0;34m\u001b[0m\n",
       "\u001b[0;34m\u001b[0m    \u001b[0mGOOD\u001b[0m \u001b[0;34m=\u001b[0m \u001b[0;34m\"good\"\u001b[0m\u001b[0;34m\u001b[0m\n",
       "\u001b[0;34m\u001b[0m    \u001b[0mNEUTRAL\u001b[0m \u001b[0;34m=\u001b[0m \u001b[0;34m\"neutral\"\u001b[0m\u001b[0;34m\u001b[0m\n",
       "\u001b[0;34m\u001b[0m    \u001b[0mEVIL\u001b[0m \u001b[0;34m=\u001b[0m \u001b[0;34m\"evil\"\u001b[0m\u001b[0;34m\u001b[0m\n",
       "\u001b[0;34m\u001b[0m\u001b[0;34m\u001b[0m\n",
       "\u001b[0;34m\u001b[0m\u001b[0;34m\u001b[0m\n",
       "\u001b[0;34m\u001b[0m\u001b[0;32mclass\u001b[0m \u001b[0mAdventurer\u001b[0m\u001b[0;34m(\u001b[0m\u001b[0mBaseModel\u001b[0m\u001b[0;34m)\u001b[0m\u001b[0;34m:\u001b[0m\u001b[0;34m\u001b[0m\n",
       "\u001b[0;34m\u001b[0m    \u001b[0;34m\"\"\"A person often late for dinner but with a tale or two to tell.\u001b[0m\n",
       "\u001b[0;34m\u001b[0m\n",
       "\u001b[0;34m    Attributes:\u001b[0m\n",
       "\u001b[0;34m        name (str): Name of this adventurer\u001b[0m\n",
       "\u001b[0;34m        profession (str): Profession of this adventurer\u001b[0m\n",
       "\u001b[0;34m        level (int): Level of this adventurer\u001b[0m\n",
       "\u001b[0;34m        alignment (int): Alignment of this adventurer\u001b[0m\n",
       "\u001b[0;34m    \"\"\"\u001b[0m\u001b[0;34m\u001b[0m\n",
       "\u001b[0;34m\u001b[0m\u001b[0;34m\u001b[0m\n",
       "\u001b[0;34m\u001b[0m    \u001b[0mname\u001b[0m\u001b[0;34m:\u001b[0m \u001b[0mstr\u001b[0m\u001b[0;34m\u001b[0m\n",
       "\u001b[0;34m\u001b[0m    \u001b[0mprofession\u001b[0m\u001b[0;34m:\u001b[0m \u001b[0mstr\u001b[0m\u001b[0;34m\u001b[0m\n",
       "\u001b[0;34m\u001b[0m    \u001b[0mlevel\u001b[0m\u001b[0;34m:\u001b[0m \u001b[0mint\u001b[0m\u001b[0;34m\u001b[0m\n",
       "\u001b[0;34m\u001b[0m    \u001b[0malignment_lc\u001b[0m\u001b[0;34m:\u001b[0m \u001b[0mAlignmentLC\u001b[0m\u001b[0;34m\u001b[0m\n",
       "\u001b[0;34m\u001b[0m    \u001b[0malignment_ge\u001b[0m\u001b[0;34m:\u001b[0m \u001b[0mAlignmentGE\u001b[0m\u001b[0;34m\u001b[0m\n",
       "\u001b[0;34m\u001b[0m\u001b[0;34m\u001b[0m\n",
       "\u001b[0;34m\u001b[0m\u001b[0;34m\u001b[0m\n",
       "\u001b[0;34m\u001b[0m\u001b[0;32mclass\u001b[0m \u001b[0mQuestGiver\u001b[0m\u001b[0;34m(\u001b[0m\u001b[0mBaseModel\u001b[0m\u001b[0;34m)\u001b[0m\u001b[0;34m:\u001b[0m\u001b[0;34m\u001b[0m\n",
       "\u001b[0;34m\u001b[0m    \u001b[0;34m\"\"\"A person who offers a task that needs completing.\u001b[0m\n",
       "\u001b[0;34m\u001b[0m\n",
       "\u001b[0;34m    Attributes:\u001b[0m\n",
       "\u001b[0;34m        name (str): Name of this quest giver\u001b[0m\n",
       "\u001b[0;34m        faction (str): Faction that this quest giver belongs to\u001b[0m\n",
       "\u001b[0;34m        location (str): Location this quest giver can be found\u001b[0m\n",
       "\u001b[0;34m    \"\"\"\u001b[0m\u001b[0;34m\u001b[0m\n",
       "\u001b[0;34m\u001b[0m\u001b[0;34m\u001b[0m\n",
       "\u001b[0;34m\u001b[0m    \u001b[0mname\u001b[0m\u001b[0;34m:\u001b[0m \u001b[0mstr\u001b[0m\u001b[0;34m\u001b[0m\n",
       "\u001b[0;34m\u001b[0m    \u001b[0mfaction\u001b[0m\u001b[0;34m:\u001b[0m \u001b[0mOptional\u001b[0m\u001b[0;34m[\u001b[0m\u001b[0mstr\u001b[0m\u001b[0;34m]\u001b[0m\u001b[0;34m\u001b[0m\n",
       "\u001b[0;34m\u001b[0m    \u001b[0mlocation\u001b[0m\u001b[0;34m:\u001b[0m \u001b[0mstr\u001b[0m\u001b[0;34m\u001b[0m\n",
       "\u001b[0;34m\u001b[0m\u001b[0;34m\u001b[0m\n",
       "\u001b[0;34m\u001b[0m\u001b[0;34m\u001b[0m\n",
       "\u001b[0;34m\u001b[0m\u001b[0;32mclass\u001b[0m \u001b[0mQuest\u001b[0m\u001b[0;34m(\u001b[0m\u001b[0mBaseModel\u001b[0m\u001b[0;34m)\u001b[0m\u001b[0;34m:\u001b[0m\u001b[0;34m\u001b[0m\n",
       "\u001b[0;34m\u001b[0m    \u001b[0;34m\"\"\"A task to complete, with some monetary reward.\u001b[0m\n",
       "\u001b[0;34m\u001b[0m\n",
       "\u001b[0;34m    Attributes:\u001b[0m\n",
       "\u001b[0;34m        name (str): Name by which this quest is referred to\u001b[0m\n",
       "\u001b[0;34m        giver (QuestGiver): Person who offered the quest\u001b[0m\n",
       "\u001b[0;34m        reward_gold (int): Amount of gold to be rewarded for quest completion\u001b[0m\n",
       "\u001b[0;34m    \"\"\"\u001b[0m\u001b[0;34m\u001b[0m\n",
       "\u001b[0;34m\u001b[0m\u001b[0;34m\u001b[0m\n",
       "\u001b[0;34m\u001b[0m    \u001b[0mname\u001b[0m\u001b[0;34m:\u001b[0m \u001b[0mstr\u001b[0m\u001b[0;34m\u001b[0m\n",
       "\u001b[0;34m\u001b[0m    \u001b[0mgiver\u001b[0m\u001b[0;34m:\u001b[0m \u001b[0mQuestGiver\u001b[0m\u001b[0;34m\u001b[0m\n",
       "\u001b[0;34m\u001b[0m    \u001b[0mreward_gold\u001b[0m\u001b[0;34m:\u001b[0m \u001b[0mint\u001b[0m\u001b[0;34m\u001b[0m\n",
       "\u001b[0;34m\u001b[0m\u001b[0;34m\u001b[0m\n",
       "\u001b[0;34m\u001b[0m\u001b[0;34m\u001b[0m\n",
       "\u001b[0;34m\u001b[0m\u001b[0;32mclass\u001b[0m \u001b[0mParty\u001b[0m\u001b[0;34m(\u001b[0m\u001b[0mBaseModel\u001b[0m\u001b[0;34m)\u001b[0m\u001b[0;34m:\u001b[0m\u001b[0;34m\u001b[0m\n",
       "\u001b[0;34m\u001b[0m    \u001b[0;34m\"\"\"A group of adventurers finding themselves doing and saying things altogether unexpected.\u001b[0m\n",
       "\u001b[0;34m\u001b[0m\n",
       "\u001b[0;34m    Attributes:\u001b[0m\n",
       "\u001b[0;34m        name (str): Name that party is known by\u001b[0m\n",
       "\u001b[0;34m        formed_datetime (datetime): Timestamp of when the party was formed\u001b[0m\n",
       "\u001b[0;34m        members (List[Adventurer]): Adventurers that belong to this party\u001b[0m\n",
       "\u001b[0;34m        active_quest (Optional[Quest]): Current quest that party is actively tackling\u001b[0m\n",
       "\u001b[0;34m    \"\"\"\u001b[0m\u001b[0;34m\u001b[0m\n",
       "\u001b[0;34m\u001b[0m\u001b[0;34m\u001b[0m\n",
       "\u001b[0;34m\u001b[0m    \u001b[0mname\u001b[0m\u001b[0;34m:\u001b[0m \u001b[0mstr\u001b[0m\u001b[0;34m\u001b[0m\n",
       "\u001b[0;34m\u001b[0m    \u001b[0mformed_datetime\u001b[0m\u001b[0;34m:\u001b[0m \u001b[0mdatetime\u001b[0m\u001b[0;34m\u001b[0m\n",
       "\u001b[0;34m\u001b[0m    \u001b[0mmembers\u001b[0m\u001b[0;34m:\u001b[0m \u001b[0mList\u001b[0m\u001b[0;34m[\u001b[0m\u001b[0mAdventurer\u001b[0m\u001b[0;34m]\u001b[0m\u001b[0;34m\u001b[0m\n",
       "\u001b[0;34m\u001b[0m    \u001b[0mactive_quest\u001b[0m\u001b[0;34m:\u001b[0m \u001b[0mOptional\u001b[0m\u001b[0;34m[\u001b[0m\u001b[0mQuest\u001b[0m\u001b[0;34m]\u001b[0m\u001b[0;34m\u001b[0m\u001b[0;34m\u001b[0m\u001b[0m\n"
      ]
     },
     "metadata": {},
     "output_type": "display_data"
    }
   ],
   "source": [
    "import erdantic.examples.pydantic\n",
    "??erdantic.examples.pydantic"
   ]
  },
  {
   "cell_type": "markdown",
   "id": "secondary-poison",
   "metadata": {},
   "source": [
    "## Using the CLI\n",
    "\n",
    "The fastest way to rendering a diagram is to use the command-line interface. Below we use IPython's `!` to run a command in the system shell. We pass the full dotted path to the root class of our composition hierarchy. erdantic will walk the composition graph to find all child classes. "
   ]
  },
  {
   "cell_type": "code",
   "execution_count": 2,
   "id": "reverse-correlation",
   "metadata": {},
   "outputs": [
    {
     "name": "stdout",
     "output_type": "stream",
     "text": [
      "Rendered diagram to diagram.png\n"
     ]
    }
   ],
   "source": [
    "!erdantic erdantic.examples.pydantic.Party "
   ]
  },
  {
   "cell_type": "markdown",
   "id": "configured-rental",
   "metadata": {},
   "source": [
    "You can use the `-o` option to specify an output path instead of the default, which also lets you control the rendered format via the file extension."
   ]
  },
  {
   "cell_type": "markdown",
   "id": "electric-folks",
   "metadata": {},
   "source": [
    "## Using the Python library\n",
    "\n",
    "You can also use the erdantic Python library, which lets you inspect the diagram object. The diagram object even automatically renders in Jupyter notebooks as demonstrated below. "
   ]
  },
  {
   "cell_type": "code",
   "execution_count": 3,
   "id": "quiet-firewall",
   "metadata": {},
   "outputs": [
    {
     "data": {
      "image/png": "[encoded data removed]",
      "image/svg+xml": [
       "<?xml version=\"1.0\" encoding=\"UTF-8\" standalone=\"no\"?>\n",
       "<!DOCTYPE svg PUBLIC \"-//W3C//DTD SVG 1.1//EN\"\n",
       " \"http://www.w3.org/Graphics/SVG/1.1/DTD/svg11.dtd\">\n",
       "<!-- Generated by graphviz version 2.46.0 (20210118.1747)\n",
       " -->\n",
       "<!-- Title: Entity Relationship Diagram Pages: 1 -->\n",
       "<svg width=\"693pt\" height=\"315pt\"\n",
       " viewBox=\"0.00 0.00 693.00 315.00\" xmlns=\"http://www.w3.org/2000/svg\" xmlns:xlink=\"http://www.w3.org/1999/xlink\">\n",
       "<g id=\"graph0\" class=\"graph\" transform=\"scale(1 1) rotate(0) translate(4 311)\">\n",
       "<title>Entity Relationship Diagram</title>\n",
       "<polygon fill=\"white\" stroke=\"transparent\" points=\"-4,4 -4,-311 689,-311 689,4 -4,4\"/>\n",
       "<text text-anchor=\"middle\" x=\"342.5\" y=\"-6.8\" font-family=\"Times,serif\" font-size=\"9.00\" fill=\"#a8a8a8\">Created by erdantic v0.1.0 &lt;https://github.com/drivendataorg/erdantic&gt;</text>\n",
       "<!-- Adventurer -->\n",
       "<g id=\"node1\" class=\"node\">\n",
       "<title>Adventurer</title>\n",
       "<g id=\"a_node1\"><a xlink:title=\"erdantic.examples.pydantic.Adventurer&#10;&#10;A person often late for dinner but with a tale or two to tell.&#10;&#10;Attributes:&#10; &#160;&#160;&#160;name (str): Name of this adventurer&#10; &#160;&#160;&#160;profession (str): Profession of this adventurer&#10; &#160;&#160;&#160;level (int): Level of this adventurer&#10; &#160;&#160;&#160;alignment (int): Alignment of this adventurer\">\n",
       "<polygon fill=\"none\" stroke=\"black\" points=\"276,-286 276,-307 502,-307 502,-286 276,-286\"/>\n",
       "<text text-anchor=\"start\" x=\"355\" y=\"-293.8\" font-family=\"Times,serif\" font-weight=\"bold\" font-size=\"14.00\">Adventurer</text>\n",
       "<polygon fill=\"none\" stroke=\"black\" points=\"276,-265 276,-286 357,-286 357,-265 276,-265\"/>\n",
       "<text text-anchor=\"start\" x=\"301\" y=\"-271.8\" font-family=\"Times,serif\" font-size=\"14.00\">name</text>\n",
       "<polygon fill=\"none\" stroke=\"black\" points=\"357,-265 357,-286 502,-286 502,-265 357,-265\"/>\n",
       "<text text-anchor=\"start\" x=\"422.5\" y=\"-271.8\" font-family=\"Times,serif\" font-size=\"14.00\">str</text>\n",
       "<polygon fill=\"none\" stroke=\"black\" points=\"276,-244 276,-265 357,-265 357,-244 276,-244\"/>\n",
       "<text text-anchor=\"start\" x=\"288\" y=\"-250.8\" font-family=\"Times,serif\" font-size=\"14.00\">profession</text>\n",
       "<polygon fill=\"none\" stroke=\"black\" points=\"357,-244 357,-265 502,-265 502,-244 357,-244\"/>\n",
       "<text text-anchor=\"start\" x=\"422.5\" y=\"-250.8\" font-family=\"Times,serif\" font-size=\"14.00\">str</text>\n",
       "<polygon fill=\"none\" stroke=\"black\" points=\"276,-223 276,-244 357,-244 357,-223 276,-223\"/>\n",
       "<text text-anchor=\"start\" x=\"303\" y=\"-229.8\" font-family=\"Times,serif\" font-size=\"14.00\">level</text>\n",
       "<polygon fill=\"none\" stroke=\"black\" points=\"357,-223 357,-244 502,-244 502,-223 357,-223\"/>\n",
       "<text text-anchor=\"start\" x=\"422\" y=\"-229.8\" font-family=\"Times,serif\" font-size=\"14.00\">int</text>\n",
       "<polygon fill=\"none\" stroke=\"black\" points=\"276,-202 276,-223 357,-223 357,-202 276,-202\"/>\n",
       "<text text-anchor=\"start\" x=\"280.5\" y=\"-208.8\" font-family=\"Times,serif\" font-size=\"14.00\">alignment_lc</text>\n",
       "<polygon fill=\"none\" stroke=\"black\" points=\"357,-202 357,-223 502,-223 502,-202 357,-202\"/>\n",
       "<text text-anchor=\"start\" x=\"360\" y=\"-208.8\" font-family=\"Times,serif\" font-size=\"14.00\">AlignmentLC(str, Enum)</text>\n",
       "<polygon fill=\"none\" stroke=\"black\" points=\"276,-181 276,-202 357,-202 357,-181 276,-181\"/>\n",
       "<text text-anchor=\"start\" x=\"279\" y=\"-187.8\" font-family=\"Times,serif\" font-size=\"14.00\">alignment_ge</text>\n",
       "<polygon fill=\"none\" stroke=\"black\" points=\"357,-181 357,-202 502,-202 502,-181 357,-181\"/>\n",
       "<text text-anchor=\"start\" x=\"360\" y=\"-187.8\" font-family=\"Times,serif\" font-size=\"14.00\">AlignmentGE(str, Enum)</text>\n",
       "</a>\n",
       "</g>\n",
       "</g>\n",
       "<!-- Party -->\n",
       "<g id=\"node2\" class=\"node\">\n",
       "<title>Party</title>\n",
       "<g id=\"a_node2\"><a xlink:title=\"erdantic.examples.pydantic.Party&#10;&#10;A group of adventurers finding themselves doing and saying things altogether unexpected.&#10;&#10;Attributes:&#10; &#160;&#160;&#160;name (str): Name that party is known by&#10; &#160;&#160;&#160;formed_datetime (datetime): Timestamp of when the party was formed&#10; &#160;&#160;&#160;members (List[Adventurer]): Adventurers that belong to this party&#10; &#160;&#160;&#160;active_quest (Optional[Quest]): Current quest that party is actively tackling\">\n",
       "<polygon fill=\"none\" stroke=\"black\" points=\"0,-279 0,-300 168,-300 168,-279 0,-279\"/>\n",
       "<text text-anchor=\"start\" x=\"67.5\" y=\"-286.8\" font-family=\"Times,serif\" font-weight=\"bold\" font-size=\"14.00\">Party</text>\n",
       "<polygon fill=\"none\" stroke=\"black\" points=\"0,-258 0,-279 100,-279 100,-258 0,-258\"/>\n",
       "<text text-anchor=\"start\" x=\"34.5\" y=\"-264.8\" font-family=\"Times,serif\" font-size=\"14.00\">name</text>\n",
       "<polygon fill=\"none\" stroke=\"black\" points=\"100,-258 100,-279 168,-279 168,-258 100,-258\"/>\n",
       "<text text-anchor=\"start\" x=\"127\" y=\"-264.8\" font-family=\"Times,serif\" font-size=\"14.00\">str</text>\n",
       "<polygon fill=\"none\" stroke=\"black\" points=\"0,-237 0,-258 100,-258 100,-237 0,-237\"/>\n",
       "<text text-anchor=\"start\" x=\"3\" y=\"-243.8\" font-family=\"Times,serif\" font-size=\"14.00\">formed_datetime</text>\n",
       "<polygon fill=\"none\" stroke=\"black\" points=\"100,-237 100,-258 168,-258 168,-237 100,-237\"/>\n",
       "<text text-anchor=\"start\" x=\"110\" y=\"-243.8\" font-family=\"Times,serif\" font-size=\"14.00\">datetime</text>\n",
       "<polygon fill=\"none\" stroke=\"black\" points=\"0,-216 0,-237 100,-237 100,-216 0,-216\"/>\n",
       "<text text-anchor=\"start\" x=\"24\" y=\"-222.8\" font-family=\"Times,serif\" font-size=\"14.00\">members</text>\n",
       "<polygon fill=\"none\" stroke=\"black\" points=\"100,-216 100,-237 168,-237 168,-216 100,-216\"/>\n",
       "<text text-anchor=\"start\" x=\"103\" y=\"-222.8\" font-family=\"Times,serif\" font-size=\"14.00\">Adventurer</text>\n",
       "<polygon fill=\"none\" stroke=\"black\" points=\"0,-195 0,-216 100,-216 100,-195 0,-195\"/>\n",
       "<text text-anchor=\"start\" x=\"16\" y=\"-201.8\" font-family=\"Times,serif\" font-size=\"14.00\">active_quest</text>\n",
       "<polygon fill=\"none\" stroke=\"black\" points=\"100,-195 100,-216 168,-216 168,-195 100,-195\"/>\n",
       "<text text-anchor=\"start\" x=\"118\" y=\"-201.8\" font-family=\"Times,serif\" font-size=\"14.00\">Quest</text>\n",
       "</a>\n",
       "</g>\n",
       "</g>\n",
       "<!-- Party&#45;&gt;Adventurer -->\n",
       "<g id=\"edge1\" class=\"edge\">\n",
       "<title>Party:e&#45;&gt;Adventurer:w</title>\n",
       "<path fill=\"none\" stroke=\"black\" d=\"M168,-226C218.6,-226 219.28,-281.09 257.99,-294.22\"/>\n",
       "<polygon fill=\"black\" stroke=\"black\" points=\"266.12,-295.47 275.31,-301.45 271.06,-296.24 276,-297 276,-297 276,-297 271.06,-296.24 276.69,-292.55 266.12,-295.47 266.12,-295.47\"/>\n",
       "<ellipse fill=\"none\" stroke=\"black\" cx=\"262.16\" cy=\"-294.86\" rx=\"4\" ry=\"4\"/>\n",
       "</g>\n",
       "<!-- Quest -->\n",
       "<g id=\"node3\" class=\"node\">\n",
       "<title>Quest</title>\n",
       "<g id=\"a_node3\"><a xlink:title=\"erdantic.examples.pydantic.Quest&#10;&#10;A task to complete, with some monetary reward.&#10;&#10;Attributes:&#10; &#160;&#160;&#160;name (str): Name by which this quest is referred to&#10; &#160;&#160;&#160;giver (QuestGiver): Person who offered the quest&#10; &#160;&#160;&#160;reward_gold (int): Amount of gold to be rewarded for quest completion\">\n",
       "<polygon fill=\"none\" stroke=\"black\" points=\"317,-124 317,-145 461,-145 461,-124 317,-124\"/>\n",
       "<text text-anchor=\"start\" x=\"371.5\" y=\"-131.8\" font-family=\"Times,serif\" font-weight=\"bold\" font-size=\"14.00\">Quest</text>\n",
       "<polygon fill=\"none\" stroke=\"black\" points=\"317,-103 317,-124 392,-124 392,-103 317,-103\"/>\n",
       "<text text-anchor=\"start\" x=\"339\" y=\"-109.8\" font-family=\"Times,serif\" font-size=\"14.00\">name</text>\n",
       "<polygon fill=\"none\" stroke=\"black\" points=\"392,-103 392,-124 461,-124 461,-103 392,-103\"/>\n",
       "<text text-anchor=\"start\" x=\"419.5\" y=\"-109.8\" font-family=\"Times,serif\" font-size=\"14.00\">str</text>\n",
       "<polygon fill=\"none\" stroke=\"black\" points=\"317,-82 317,-103 392,-103 392,-82 317,-82\"/>\n",
       "<text text-anchor=\"start\" x=\"340.5\" y=\"-88.8\" font-family=\"Times,serif\" font-size=\"14.00\">giver</text>\n",
       "<polygon fill=\"none\" stroke=\"black\" points=\"392,-82 392,-103 461,-103 461,-82 392,-82\"/>\n",
       "<text text-anchor=\"start\" x=\"395\" y=\"-88.8\" font-family=\"Times,serif\" font-size=\"14.00\">QuestGiver</text>\n",
       "<polygon fill=\"none\" stroke=\"black\" points=\"317,-61 317,-82 392,-82 392,-61 317,-61\"/>\n",
       "<text text-anchor=\"start\" x=\"320\" y=\"-67.8\" font-family=\"Times,serif\" font-size=\"14.00\">reward_gold</text>\n",
       "<polygon fill=\"none\" stroke=\"black\" points=\"392,-61 392,-82 461,-82 461,-61 392,-61\"/>\n",
       "<text text-anchor=\"start\" x=\"419\" y=\"-67.8\" font-family=\"Times,serif\" font-size=\"14.00\">int</text>\n",
       "</a>\n",
       "</g>\n",
       "</g>\n",
       "<!-- Party&#45;&gt;Quest -->\n",
       "<g id=\"edge2\" class=\"edge\">\n",
       "<title>Party:e&#45;&gt;Quest:w</title>\n",
       "<path fill=\"none\" stroke=\"black\" d=\"M168,-205C234.23,-205 242.22,-147.01 297.99,-136.59\"/>\n",
       "<polyline fill=\"none\" stroke=\"black\" points=\"316,-135 311.02,-135.44 \"/>\n",
       "<polygon fill=\"black\" stroke=\"black\" points=\"309.58,-130.55 310.46,-140.51 308.47,-140.69 307.59,-130.72 309.58,-130.55\"/>\n",
       "<polyline fill=\"none\" stroke=\"black\" points=\"311.02,-135.44 306.04,-135.88 \"/>\n",
       "<ellipse fill=\"none\" stroke=\"black\" cx=\"302.05\" cy=\"-136.23\" rx=\"4\" ry=\"4\"/>\n",
       "</g>\n",
       "<!-- QuestGiver -->\n",
       "<g id=\"node4\" class=\"node\">\n",
       "<title>QuestGiver</title>\n",
       "<g id=\"a_node4\"><a xlink:title=\"erdantic.examples.pydantic.QuestGiver&#10;&#10;A person who offers a task that needs completing.&#10;&#10;Attributes:&#10; &#160;&#160;&#160;name (str): Name of this quest giver&#10; &#160;&#160;&#160;faction (str): Faction that this quest giver belongs to&#10; &#160;&#160;&#160;location (str): Location this quest giver can be found\">\n",
       "<polygon fill=\"none\" stroke=\"black\" points=\"610.5,-81 610.5,-102 685.5,-102 685.5,-81 610.5,-81\"/>\n",
       "<text text-anchor=\"start\" x=\"613.5\" y=\"-88.8\" font-family=\"Times,serif\" font-weight=\"bold\" font-size=\"14.00\">QuestGiver</text>\n",
       "<polygon fill=\"none\" stroke=\"black\" points=\"610.5,-60 610.5,-81 662.5,-81 662.5,-60 610.5,-60\"/>\n",
       "<text text-anchor=\"start\" x=\"621\" y=\"-66.8\" font-family=\"Times,serif\" font-size=\"14.00\">name</text>\n",
       "<polygon fill=\"none\" stroke=\"black\" points=\"662.5,-60 662.5,-81 685.5,-81 685.5,-60 662.5,-60\"/>\n",
       "<text text-anchor=\"start\" x=\"667\" y=\"-66.8\" font-family=\"Times,serif\" font-size=\"14.00\">str</text>\n",
       "<polygon fill=\"none\" stroke=\"black\" points=\"610.5,-39 610.5,-60 662.5,-60 662.5,-39 610.5,-39\"/>\n",
       "<text text-anchor=\"start\" x=\"617.5\" y=\"-45.8\" font-family=\"Times,serif\" font-size=\"14.00\">faction</text>\n",
       "<polygon fill=\"none\" stroke=\"black\" points=\"662.5,-39 662.5,-60 685.5,-60 685.5,-39 662.5,-39\"/>\n",
       "<text text-anchor=\"start\" x=\"667\" y=\"-45.8\" font-family=\"Times,serif\" font-size=\"14.00\">str</text>\n",
       "<polygon fill=\"none\" stroke=\"black\" points=\"610.5,-18 610.5,-39 662.5,-39 662.5,-18 610.5,-18\"/>\n",
       "<text text-anchor=\"start\" x=\"614.5\" y=\"-24.8\" font-family=\"Times,serif\" font-size=\"14.00\">location</text>\n",
       "<polygon fill=\"none\" stroke=\"black\" points=\"662.5,-18 662.5,-39 685.5,-39 685.5,-18 662.5,-18\"/>\n",
       "<text text-anchor=\"start\" x=\"667\" y=\"-24.8\" font-family=\"Times,serif\" font-size=\"14.00\">str</text>\n",
       "</a>\n",
       "</g>\n",
       "</g>\n",
       "<!-- Quest&#45;&gt;QuestGiver -->\n",
       "<g id=\"edge3\" class=\"edge\">\n",
       "<title>Quest:e&#45;&gt;QuestGiver:w</title>\n",
       "<path fill=\"none\" stroke=\"black\" d=\"M462,-92C522.38,-92 541.19,-92 594.75,-92\"/>\n",
       "<polyline fill=\"none\" stroke=\"black\" points=\"610,-92 605,-92 \"/>\n",
       "<polygon fill=\"black\" stroke=\"black\" points=\"604,-87 604,-97 602,-97 602,-87 604,-87\"/>\n",
       "<polyline fill=\"none\" stroke=\"black\" points=\"605,-92 600,-92 \"/>\n",
       "<polygon fill=\"black\" stroke=\"black\" points=\"599,-87 599,-97 597,-97 597,-87 599,-87\"/>\n",
       "<polyline fill=\"none\" stroke=\"black\" points=\"600,-92 595,-92 \"/>\n",
       "</g>\n",
       "</g>\n",
       "</svg>\n"
      ],
      "text/plain": [
       "EntityRelationshipDiagram(models=[PydanticModel(Adventurer), PydanticModel(Party), PydanticModel(Quest), PydanticModel(QuestGiver)], edges=[Edge(source=PydanticModel(Party), source_field=<PydanticField: 'members', Adventurer>, target=PydanticModel(Adventurer)), Edge(source=PydanticModel(Party), source_field=<PydanticField: 'active_quest', Quest>, target=PydanticModel(Quest)), Edge(source=PydanticModel(Quest), source_field=<PydanticField: 'giver', QuestGiver>, target=PydanticModel(QuestGiver))])"
      ]
     },
     "execution_count": 3,
     "metadata": {},
     "output_type": "execute_result"
    }
   ],
   "source": [
    "import erdantic as erd\n",
    "from erdantic.examples.pydantic import Party\n",
    "\n",
    "\n",
    "diagram = erd.create(Party)\n",
    "diagram"
   ]
  },
  {
   "cell_type": "code",
   "execution_count": 4,
   "id": "painted-launch",
   "metadata": {},
   "outputs": [
    {
     "data": {
      "text/plain": [
       "[PydanticModel(Adventurer),\n",
       " PydanticModel(Party),\n",
       " PydanticModel(Quest),\n",
       " PydanticModel(QuestGiver)]"
      ]
     },
     "execution_count": 4,
     "metadata": {},
     "output_type": "execute_result"
    }
   ],
   "source": [
    "diagram.models"
   ]
  },
  {
   "cell_type": "code",
   "execution_count": 5,
   "id": "impressive-michigan",
   "metadata": {},
   "outputs": [
    {
     "data": {
      "text/plain": [
       "[Edge(source=PydanticModel(Party), source_field=<PydanticField: 'members', Adventurer>, target=PydanticModel(Adventurer)),\n",
       " Edge(source=PydanticModel(Party), source_field=<PydanticField: 'active_quest', Quest>, target=PydanticModel(Quest)),\n",
       " Edge(source=PydanticModel(Quest), source_field=<PydanticField: 'giver', QuestGiver>, target=PydanticModel(QuestGiver))]"
      ]
     },
     "execution_count": 5,
     "metadata": {},
     "output_type": "execute_result"
    }
   ],
   "source": [
    "diagram.edges"
   ]
  },
  {
   "cell_type": "markdown",
   "id": "excited-front",
   "metadata": {},
   "source": [
    "You can use the `draw` method to render the diagram to disk."
   ]
  },
  {
   "cell_type": "code",
   "execution_count": 6,
   "id": "productive-cowboy",
   "metadata": {},
   "outputs": [],
   "source": [
    "diagram.draw(\"pydantic.svg\")\n",
    "\n",
    "# Equivalently, use erd.draw directly from Party\n",
    "# erd.draw(Party, out=\"pydantic.svg\")"
   ]
  },
  {
   "cell_type": "markdown",
   "id": "still-reynolds",
   "metadata": {},
   "source": [
    "erdantic uses [Graphviz](https://graphviz.org/), a venerable open-source C library, to create the diagram. Graphviz uses the [DOT language](https://graphviz.org/doc/info/lang.html) for describing graphs. You use the `to_dot` method to get the DOT representation as a string. "
   ]
  },
  {
   "cell_type": "code",
   "execution_count": 7,
   "id": "painful-louisiana",
   "metadata": {},
   "outputs": [
    {
     "name": "stdout",
     "output_type": "stream",
     "text": [
      "digraph \"Entity Relationship Diagram\" {\n",
      "\tgraph [fontcolor=gray66,\n",
      "\t\tfontsize=9,\n",
      "\t\tlabel=\"Created by erdantic v0.1.0 <https://github.com/drivendataorg/erdantic>\",\n",
      "\t\tnodesep=0.5,\n",
      "\t\trankdir=LR,\n",
      "\t\tranksep=1.5\n",
      "\t];\n",
      "\tnode [fontsize=14,\n",
      "\t\tlabel=\"\\N\",\n",
      "\t\tshape=plain\n",
      "\t];\n",
      "\tAdventurer\t[label=<<table border=\"0\" cellborder=\"1\" cellspacing=\"0\"><tr><td port=\"_root\" colspan=\"2\"><b>Adventurer</b></td></tr><tr><td>name</td><td port=\"name\">str</td></tr><tr><td>profession</td><td port=\"profession\">str</td></tr><tr><td>level</td><td port=\"level\">int</td></tr><tr><td>alignment_lc</td><td port=\"alignment_lc\">AlignmentLC(str, Enum)</td></tr><tr><td>alignment_ge</td><td port=\"alignment_ge\">AlignmentGE(str, Enum)</td></tr></table>>,\n",
      "\t\ttooltip=\"erdantic.examples.pydantic.Adventurer&#xA;&#xA;A person often late for dinner but with a tale or two to tell.&#xA;&#xA;Attributes:&#\\\n",
      "xA;    name (str): Name of this adventurer&#xA;    profession (str): Profession of this adventurer&#xA;    level (int): Level of \\\n",
      "this adventurer&#xA;    alignment (int): Alignment of this adventurer\"];\n",
      "\tParty\t[label=<<table border=\"0\" cellborder=\"1\" cellspacing=\"0\"><tr><td port=\"_root\" colspan=\"2\"><b>Party</b></td></tr><tr><td>name</td><td port=\"name\">str</td></tr><tr><td>formed_datetime</td><td port=\"formed_datetime\">datetime</td></tr><tr><td>members</td><td port=\"members\">Adventurer</td></tr><tr><td>active_quest</td><td port=\"active_quest\">Quest</td></tr></table>>,\n",
      "\t\ttooltip=\"erdantic.examples.pydantic.Party&#xA;&#xA;A group of adventurers finding themselves doing and saying things altogether unexpected.&#\\\n",
      "xA;&#xA;Attributes:&#xA;    name (str): Name that party is known by&#xA;    formed_datetime (datetime): Timestamp of when the party \\\n",
      "was formed&#xA;    members (List[Adventurer]): Adventurers that belong to this party&#xA;    active_quest (Optional[Quest]): Current \\\n",
      "quest that party is actively tackling\"];\n",
      "\tParty:members:e -> Adventurer:_root:w\t[arrowhead=crowodot];\n",
      "\tQuest\t[label=<<table border=\"0\" cellborder=\"1\" cellspacing=\"0\"><tr><td port=\"_root\" colspan=\"2\"><b>Quest</b></td></tr><tr><td>name</td><td port=\"name\">str</td></tr><tr><td>giver</td><td port=\"giver\">QuestGiver</td></tr><tr><td>reward_gold</td><td port=\"reward_gold\">int</td></tr></table>>,\n",
      "\t\ttooltip=\"erdantic.examples.pydantic.Quest&#xA;&#xA;A task to complete, with some monetary reward.&#xA;&#xA;Attributes:&#xA;    name (str): \\\n",
      "Name by which this quest is referred to&#xA;    giver (QuestGiver): Person who offered the quest&#xA;    reward_gold (int): Amount \\\n",
      "of gold to be rewarded for quest completion\"];\n",
      "\tParty:active_quest:e -> Quest:_root:w\t[arrowhead=noneteeodot];\n",
      "\tQuestGiver\t[label=<<table border=\"0\" cellborder=\"1\" cellspacing=\"0\"><tr><td port=\"_root\" colspan=\"2\"><b>QuestGiver</b></td></tr><tr><td>name</td><td port=\"name\">str</td></tr><tr><td>faction</td><td port=\"faction\">str</td></tr><tr><td>location</td><td port=\"location\">str</td></tr></table>>,\n",
      "\t\ttooltip=\"erdantic.examples.pydantic.QuestGiver&#xA;&#xA;A person who offers a task that needs completing.&#xA;&#xA;Attributes:&#xA;    name (\\\n",
      "str): Name of this quest giver&#xA;    faction (str): Faction that this quest giver belongs to&#xA;    location (str): Location \\\n",
      "this quest giver can be found\"];\n",
      "\tQuest:giver:e -> QuestGiver:_root:w\t[arrowhead=noneteetee];\n",
      "}\n",
      "\n"
     ]
    }
   ],
   "source": [
    "print(diagram.to_dot())\n",
    "\n",
    "# Equivalently, use erd.to_dot directly from Party\n",
    "assert diagram.to_dot() == erd.to_dot(Party)"
   ]
  }
 ],
 "metadata": {
  "kernelspec": {
   "display_name": "Python 3",
   "language": "python",
   "name": "python3"
  },
  "language_info": {
   "codemirror_mode": {
    "name": "ipython",
    "version": 3
   },
   "file_extension": ".py",
   "mimetype": "text/x-python",
   "name": "python",
   "nbconvert_exporter": "python",
   "pygments_lexer": "ipython3",
   "version": "3.9.1"
  }
 },
 "nbformat": 4,
 "nbformat_minor": 5
}
