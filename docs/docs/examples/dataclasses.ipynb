{
 "cells": [
  {
   "cell_type": "markdown",
   "id": "spoken-medium",
   "metadata": {},
   "source": [
    "# Usage Example: dataclasses\n",
    "\n",
    "This notebook shows an example of using erdantic with the standard library's [dataclasses](https://docs.python.org/3/library/dataclasses.html) module.\n",
    "\n",
    "Let's take a look at the models from the `erdantic.examples.dataclasses` module. Here's their source code for clariy."
   ]
  },
  {
   "cell_type": "code",
   "execution_count": 1,
   "id": "south-tuesday",
   "metadata": {},
   "outputs": [
    {
     "data": {
      "text/plain": [
       "\u001b[0;31mType:\u001b[0m        module\n",
       "\u001b[0;31mString form:\u001b[0m <module 'erdantic.examples.dataclasses' from '/Users/jqi/repos/erdantic/erdantic/examples/dataclasses.py'>\n",
       "\u001b[0;31mFile:\u001b[0m        ~/repos/erdantic/erdantic/examples/dataclasses.py\n",
       "\u001b[0;31mSource:\u001b[0m     \n",
       "\u001b[0;34m\"\"\"Example data model classes using standard library's\u001b[0m\n",
       "\u001b[0;34m[`dataclasses`](https://docs.python.org/3/library/dataclasses.html) module.\"\"\"\u001b[0m\u001b[0;34m\u001b[0m\n",
       "\u001b[0;34m\u001b[0m\u001b[0;34m\u001b[0m\n",
       "\u001b[0;34m\u001b[0m\u001b[0;32mfrom\u001b[0m \u001b[0mdataclasses\u001b[0m \u001b[0;32mimport\u001b[0m \u001b[0mdataclass\u001b[0m\u001b[0;34m\u001b[0m\n",
       "\u001b[0;34m\u001b[0m\u001b[0;32mfrom\u001b[0m \u001b[0mdatetime\u001b[0m \u001b[0;32mimport\u001b[0m \u001b[0mdatetime\u001b[0m\u001b[0;34m\u001b[0m\n",
       "\u001b[0;34m\u001b[0m\u001b[0;32mfrom\u001b[0m \u001b[0menum\u001b[0m \u001b[0;32mimport\u001b[0m \u001b[0mEnum\u001b[0m\u001b[0;34m\u001b[0m\n",
       "\u001b[0;34m\u001b[0m\u001b[0;32mfrom\u001b[0m \u001b[0mtyping\u001b[0m \u001b[0;32mimport\u001b[0m \u001b[0mList\u001b[0m\u001b[0;34m,\u001b[0m \u001b[0mOptional\u001b[0m\u001b[0;34m\u001b[0m\n",
       "\u001b[0;34m\u001b[0m\u001b[0;34m\u001b[0m\n",
       "\u001b[0;34m\u001b[0m\u001b[0;34m\u001b[0m\n",
       "\u001b[0;34m\u001b[0m\u001b[0;32mclass\u001b[0m \u001b[0mAlignmentLC\u001b[0m\u001b[0;34m(\u001b[0m\u001b[0mstr\u001b[0m\u001b[0;34m,\u001b[0m \u001b[0mEnum\u001b[0m\u001b[0;34m)\u001b[0m\u001b[0;34m:\u001b[0m\u001b[0;34m\u001b[0m\n",
       "\u001b[0;34m\u001b[0m    \u001b[0mLAWFUL\u001b[0m \u001b[0;34m=\u001b[0m \u001b[0;34m\"lawful\"\u001b[0m\u001b[0;34m\u001b[0m\n",
       "\u001b[0;34m\u001b[0m    \u001b[0mNEUTRAL\u001b[0m \u001b[0;34m=\u001b[0m \u001b[0;34m\"neutral\"\u001b[0m\u001b[0;34m\u001b[0m\n",
       "\u001b[0;34m\u001b[0m    \u001b[0mCHAOTIC\u001b[0m \u001b[0;34m=\u001b[0m \u001b[0;34m\"chaotic\"\u001b[0m\u001b[0;34m\u001b[0m\n",
       "\u001b[0;34m\u001b[0m\u001b[0;34m\u001b[0m\n",
       "\u001b[0;34m\u001b[0m\u001b[0;34m\u001b[0m\n",
       "\u001b[0;34m\u001b[0m\u001b[0;32mclass\u001b[0m \u001b[0mAlignmentGE\u001b[0m\u001b[0;34m(\u001b[0m\u001b[0mstr\u001b[0m\u001b[0;34m,\u001b[0m \u001b[0mEnum\u001b[0m\u001b[0;34m)\u001b[0m\u001b[0;34m:\u001b[0m\u001b[0;34m\u001b[0m\n",
       "\u001b[0;34m\u001b[0m    \u001b[0mGOOD\u001b[0m \u001b[0;34m=\u001b[0m \u001b[0;34m\"good\"\u001b[0m\u001b[0;34m\u001b[0m\n",
       "\u001b[0;34m\u001b[0m    \u001b[0mNEUTRAL\u001b[0m \u001b[0;34m=\u001b[0m \u001b[0;34m\"neutral\"\u001b[0m\u001b[0;34m\u001b[0m\n",
       "\u001b[0;34m\u001b[0m    \u001b[0mEVIL\u001b[0m \u001b[0;34m=\u001b[0m \u001b[0;34m\"evil\"\u001b[0m\u001b[0;34m\u001b[0m\n",
       "\u001b[0;34m\u001b[0m\u001b[0;34m\u001b[0m\n",
       "\u001b[0;34m\u001b[0m\u001b[0;34m\u001b[0m\n",
       "\u001b[0;34m\u001b[0m\u001b[0;34m@\u001b[0m\u001b[0mdataclass\u001b[0m\u001b[0;34m\u001b[0m\n",
       "\u001b[0;34m\u001b[0m\u001b[0;32mclass\u001b[0m \u001b[0mAdventurer\u001b[0m\u001b[0;34m:\u001b[0m\u001b[0;34m\u001b[0m\n",
       "\u001b[0;34m\u001b[0m    \u001b[0;34m\"\"\"A person often late for dinner but with a tale or two to tell.\u001b[0m\n",
       "\u001b[0;34m\u001b[0m\n",
       "\u001b[0;34m    Attributes:\u001b[0m\n",
       "\u001b[0;34m        name (str): Name of this adventurer\u001b[0m\n",
       "\u001b[0;34m        profession (str): Profession of this adventurer\u001b[0m\n",
       "\u001b[0;34m        level (int): Level of this adventurer\u001b[0m\n",
       "\u001b[0;34m        alignment (int): Alignment of this adventurer\u001b[0m\n",
       "\u001b[0;34m    \"\"\"\u001b[0m\u001b[0;34m\u001b[0m\n",
       "\u001b[0;34m\u001b[0m\u001b[0;34m\u001b[0m\n",
       "\u001b[0;34m\u001b[0m    \u001b[0mname\u001b[0m\u001b[0;34m:\u001b[0m \u001b[0mstr\u001b[0m\u001b[0;34m\u001b[0m\n",
       "\u001b[0;34m\u001b[0m    \u001b[0mprofession\u001b[0m\u001b[0;34m:\u001b[0m \u001b[0mstr\u001b[0m\u001b[0;34m\u001b[0m\n",
       "\u001b[0;34m\u001b[0m    \u001b[0mlevel\u001b[0m\u001b[0;34m:\u001b[0m \u001b[0mint\u001b[0m\u001b[0;34m\u001b[0m\n",
       "\u001b[0;34m\u001b[0m    \u001b[0malignment_lc\u001b[0m\u001b[0;34m:\u001b[0m \u001b[0mAlignmentLC\u001b[0m\u001b[0;34m\u001b[0m\n",
       "\u001b[0;34m\u001b[0m    \u001b[0malignment_ge\u001b[0m\u001b[0;34m:\u001b[0m \u001b[0mAlignmentGE\u001b[0m\u001b[0;34m\u001b[0m\n",
       "\u001b[0;34m\u001b[0m\u001b[0;34m\u001b[0m\n",
       "\u001b[0;34m\u001b[0m\u001b[0;34m\u001b[0m\n",
       "\u001b[0;34m\u001b[0m\u001b[0;34m@\u001b[0m\u001b[0mdataclass\u001b[0m\u001b[0;34m\u001b[0m\n",
       "\u001b[0;34m\u001b[0m\u001b[0;32mclass\u001b[0m \u001b[0mQuestGiver\u001b[0m\u001b[0;34m:\u001b[0m\u001b[0;34m\u001b[0m\n",
       "\u001b[0;34m\u001b[0m    \u001b[0;34m\"\"\"A person who offers a task that needs completing.\u001b[0m\n",
       "\u001b[0;34m\u001b[0m\n",
       "\u001b[0;34m    Attributes:\u001b[0m\n",
       "\u001b[0;34m        name (str): Name of this quest giver\u001b[0m\n",
       "\u001b[0;34m        faction (str): Faction that this quest giver belongs to\u001b[0m\n",
       "\u001b[0;34m        location (str): Location this quest giver can be found\u001b[0m\n",
       "\u001b[0;34m    \"\"\"\u001b[0m\u001b[0;34m\u001b[0m\n",
       "\u001b[0;34m\u001b[0m\u001b[0;34m\u001b[0m\n",
       "\u001b[0;34m\u001b[0m    \u001b[0mname\u001b[0m\u001b[0;34m:\u001b[0m \u001b[0mstr\u001b[0m\u001b[0;34m\u001b[0m\n",
       "\u001b[0;34m\u001b[0m    \u001b[0mfaction\u001b[0m\u001b[0;34m:\u001b[0m \u001b[0mOptional\u001b[0m\u001b[0;34m[\u001b[0m\u001b[0mstr\u001b[0m\u001b[0;34m]\u001b[0m\u001b[0;34m\u001b[0m\n",
       "\u001b[0;34m\u001b[0m    \u001b[0mlocation\u001b[0m\u001b[0;34m:\u001b[0m \u001b[0mstr\u001b[0m\u001b[0;34m\u001b[0m\n",
       "\u001b[0;34m\u001b[0m\u001b[0;34m\u001b[0m\n",
       "\u001b[0;34m\u001b[0m\u001b[0;34m\u001b[0m\n",
       "\u001b[0;34m\u001b[0m\u001b[0;34m@\u001b[0m\u001b[0mdataclass\u001b[0m\u001b[0;34m\u001b[0m\n",
       "\u001b[0;34m\u001b[0m\u001b[0;32mclass\u001b[0m \u001b[0mQuest\u001b[0m\u001b[0;34m:\u001b[0m\u001b[0;34m\u001b[0m\n",
       "\u001b[0;34m\u001b[0m    \u001b[0;34m\"\"\"A task to complete, with some monetary reward.\u001b[0m\n",
       "\u001b[0;34m\u001b[0m\n",
       "\u001b[0;34m    Attributes:\u001b[0m\n",
       "\u001b[0;34m        name (str): Name by which this quest is referred to\u001b[0m\n",
       "\u001b[0;34m        giver (QuestGiver): Person who offered the quest\u001b[0m\n",
       "\u001b[0;34m        reward_gold (int): Amount of gold to be rewarded for quest completion\u001b[0m\n",
       "\u001b[0;34m    \"\"\"\u001b[0m\u001b[0;34m\u001b[0m\n",
       "\u001b[0;34m\u001b[0m\u001b[0;34m\u001b[0m\n",
       "\u001b[0;34m\u001b[0m    \u001b[0mname\u001b[0m\u001b[0;34m:\u001b[0m \u001b[0mstr\u001b[0m\u001b[0;34m\u001b[0m\n",
       "\u001b[0;34m\u001b[0m    \u001b[0mgiver\u001b[0m\u001b[0;34m:\u001b[0m \u001b[0mQuestGiver\u001b[0m\u001b[0;34m\u001b[0m\n",
       "\u001b[0;34m\u001b[0m    \u001b[0mreward_gold\u001b[0m\u001b[0;34m:\u001b[0m \u001b[0mint\u001b[0m\u001b[0;34m\u001b[0m\n",
       "\u001b[0;34m\u001b[0m\u001b[0;34m\u001b[0m\n",
       "\u001b[0;34m\u001b[0m\u001b[0;34m\u001b[0m\n",
       "\u001b[0;34m\u001b[0m\u001b[0;34m@\u001b[0m\u001b[0mdataclass\u001b[0m\u001b[0;34m\u001b[0m\n",
       "\u001b[0;34m\u001b[0m\u001b[0;32mclass\u001b[0m \u001b[0mParty\u001b[0m\u001b[0;34m:\u001b[0m\u001b[0;34m\u001b[0m\n",
       "\u001b[0;34m\u001b[0m    \u001b[0;34m\"\"\"A group of adventurers finding themselves doing and saying things altogether unexpected.\u001b[0m\n",
       "\u001b[0;34m\u001b[0m\n",
       "\u001b[0;34m    Attributes:\u001b[0m\n",
       "\u001b[0;34m        name (str): Name that party is known by\u001b[0m\n",
       "\u001b[0;34m        formed_datetime (datetime): Timestamp of when the party was formed\u001b[0m\n",
       "\u001b[0;34m        members (List[Adventurer]): Adventurers that belong to this party\u001b[0m\n",
       "\u001b[0;34m        active_quest (Optional[Quest]): Current quest that party is actively tackling\u001b[0m\n",
       "\u001b[0;34m    \"\"\"\u001b[0m\u001b[0;34m\u001b[0m\n",
       "\u001b[0;34m\u001b[0m\u001b[0;34m\u001b[0m\n",
       "\u001b[0;34m\u001b[0m    \u001b[0mname\u001b[0m\u001b[0;34m:\u001b[0m \u001b[0mstr\u001b[0m\u001b[0;34m\u001b[0m\n",
       "\u001b[0;34m\u001b[0m    \u001b[0mformed_datetime\u001b[0m\u001b[0;34m:\u001b[0m \u001b[0mdatetime\u001b[0m\u001b[0;34m\u001b[0m\n",
       "\u001b[0;34m\u001b[0m    \u001b[0mmembers\u001b[0m\u001b[0;34m:\u001b[0m \u001b[0mList\u001b[0m\u001b[0;34m[\u001b[0m\u001b[0mAdventurer\u001b[0m\u001b[0;34m]\u001b[0m\u001b[0;34m\u001b[0m\n",
       "\u001b[0;34m\u001b[0m    \u001b[0mactive_quest\u001b[0m\u001b[0;34m:\u001b[0m \u001b[0mOptional\u001b[0m\u001b[0;34m[\u001b[0m\u001b[0mQuest\u001b[0m\u001b[0;34m]\u001b[0m\u001b[0;34m\u001b[0m\u001b[0;34m\u001b[0m\u001b[0m\n"
      ]
     },
     "metadata": {},
     "output_type": "display_data"
    }
   ],
   "source": [
    "import erdantic.examples.dataclasses\n",
    "??erdantic.examples.dataclasses"
   ]
  },
  {
   "cell_type": "markdown",
   "id": "thick-actress",
   "metadata": {},
   "source": [
    "## Using the CLI\n",
    "\n",
    "The fastest way to rendering a diagram is to use the command-line interface. Below we use IPython's `!` to run a command in the system shell. We pass the full dotted path to the root class of our composition hierarchy. erdantic will walk the composition graph to find all child classes. "
   ]
  },
  {
   "cell_type": "code",
   "execution_count": 2,
   "id": "impressive-square",
   "metadata": {},
   "outputs": [
    {
     "name": "stdout",
     "output_type": "stream",
     "text": [
      "Rendered diagram to diagram.png\n"
     ]
    }
   ],
   "source": [
    "!erdantic erdantic.examples.dataclasses.Party "
   ]
  },
  {
   "cell_type": "markdown",
   "id": "prostate-percentage",
   "metadata": {},
   "source": [
    "You can use the `-o` option to specify an output path instead of the default, which also lets you control the rendered format via the file extension."
   ]
  },
  {
   "cell_type": "markdown",
   "id": "congressional-simpson",
   "metadata": {},
   "source": [
    "## Using the Python library\n",
    "\n",
    "You can also use the erdantic Python library, which lets you inspect the diagram object. The diagram object even automatically renders in Jupyter notebooks as demonstrated below. "
   ]
  },
  {
   "cell_type": "code",
   "execution_count": 3,
   "id": "dutch-gentleman",
   "metadata": {},
   "outputs": [
    {
     "data": {
      "image/png": "[encoded data removed]",
      "image/svg+xml": [
       "<?xml version=\"1.0\" encoding=\"UTF-8\" standalone=\"no\"?>\n",
       "<!DOCTYPE svg PUBLIC \"-//W3C//DTD SVG 1.1//EN\"\n",
       " \"http://www.w3.org/Graphics/SVG/1.1/DTD/svg11.dtd\">\n",
       "<!-- Generated by graphviz version 2.46.0 (20210118.1747)\n",
       " -->\n",
       "<!-- Title: Entity Relationship Diagram Pages: 1 -->\n",
       "<svg width=\"774pt\" height=\"315pt\"\n",
       " viewBox=\"0.00 0.00 774.00 315.00\" xmlns=\"http://www.w3.org/2000/svg\" xmlns:xlink=\"http://www.w3.org/1999/xlink\">\n",
       "<g id=\"graph0\" class=\"graph\" transform=\"scale(1 1) rotate(0) translate(4 311)\">\n",
       "<title>Entity Relationship Diagram</title>\n",
       "<polygon fill=\"white\" stroke=\"transparent\" points=\"-4,4 -4,-311 770,-311 770,4 -4,4\"/>\n",
       "<text text-anchor=\"middle\" x=\"383\" y=\"-6.8\" font-family=\"Times,serif\" font-size=\"9.00\" fill=\"#a8a8a8\">Created by erdantic v0.1.0 &lt;https://github.com/drivendataorg/erdantic&gt;</text>\n",
       "<!-- Adventurer -->\n",
       "<g id=\"node1\" class=\"node\">\n",
       "<title>Adventurer</title>\n",
       "<g id=\"a_node1\"><a xlink:title=\"erdantic.examples.dataclasses.Adventurer&#10;&#10;A person often late for dinner but with a tale or two to tell.&#10;&#10;Attributes:&#10; &#160;&#160;&#160;name (str): Name of this adventurer&#10; &#160;&#160;&#160;profession (str): Profession of this adventurer&#10; &#160;&#160;&#160;level (int): Level of this adventurer&#10; &#160;&#160;&#160;alignment (int): Alignment of this adventurer\">\n",
       "<polygon fill=\"none\" stroke=\"black\" points=\"306,-286 306,-307 532,-307 532,-286 306,-286\"/>\n",
       "<text text-anchor=\"start\" x=\"385\" y=\"-293.8\" font-family=\"Times,serif\" font-weight=\"bold\" font-size=\"14.00\">Adventurer</text>\n",
       "<polygon fill=\"none\" stroke=\"black\" points=\"306,-265 306,-286 387,-286 387,-265 306,-265\"/>\n",
       "<text text-anchor=\"start\" x=\"331\" y=\"-271.8\" font-family=\"Times,serif\" font-size=\"14.00\">name</text>\n",
       "<polygon fill=\"none\" stroke=\"black\" points=\"387,-265 387,-286 532,-286 532,-265 387,-265\"/>\n",
       "<text text-anchor=\"start\" x=\"452.5\" y=\"-271.8\" font-family=\"Times,serif\" font-size=\"14.00\">str</text>\n",
       "<polygon fill=\"none\" stroke=\"black\" points=\"306,-244 306,-265 387,-265 387,-244 306,-244\"/>\n",
       "<text text-anchor=\"start\" x=\"318\" y=\"-250.8\" font-family=\"Times,serif\" font-size=\"14.00\">profession</text>\n",
       "<polygon fill=\"none\" stroke=\"black\" points=\"387,-244 387,-265 532,-265 532,-244 387,-244\"/>\n",
       "<text text-anchor=\"start\" x=\"452.5\" y=\"-250.8\" font-family=\"Times,serif\" font-size=\"14.00\">str</text>\n",
       "<polygon fill=\"none\" stroke=\"black\" points=\"306,-223 306,-244 387,-244 387,-223 306,-223\"/>\n",
       "<text text-anchor=\"start\" x=\"333\" y=\"-229.8\" font-family=\"Times,serif\" font-size=\"14.00\">level</text>\n",
       "<polygon fill=\"none\" stroke=\"black\" points=\"387,-223 387,-244 532,-244 532,-223 387,-223\"/>\n",
       "<text text-anchor=\"start\" x=\"452\" y=\"-229.8\" font-family=\"Times,serif\" font-size=\"14.00\">int</text>\n",
       "<polygon fill=\"none\" stroke=\"black\" points=\"306,-202 306,-223 387,-223 387,-202 306,-202\"/>\n",
       "<text text-anchor=\"start\" x=\"310.5\" y=\"-208.8\" font-family=\"Times,serif\" font-size=\"14.00\">alignment_lc</text>\n",
       "<polygon fill=\"none\" stroke=\"black\" points=\"387,-202 387,-223 532,-223 532,-202 387,-202\"/>\n",
       "<text text-anchor=\"start\" x=\"390\" y=\"-208.8\" font-family=\"Times,serif\" font-size=\"14.00\">AlignmentLC(str, Enum)</text>\n",
       "<polygon fill=\"none\" stroke=\"black\" points=\"306,-181 306,-202 387,-202 387,-181 306,-181\"/>\n",
       "<text text-anchor=\"start\" x=\"309\" y=\"-187.8\" font-family=\"Times,serif\" font-size=\"14.00\">alignment_ge</text>\n",
       "<polygon fill=\"none\" stroke=\"black\" points=\"387,-181 387,-202 532,-202 532,-181 387,-181\"/>\n",
       "<text text-anchor=\"start\" x=\"390\" y=\"-187.8\" font-family=\"Times,serif\" font-size=\"14.00\">AlignmentGE(str, Enum)</text>\n",
       "</a>\n",
       "</g>\n",
       "</g>\n",
       "<!-- Party -->\n",
       "<g id=\"node2\" class=\"node\">\n",
       "<title>Party</title>\n",
       "<g id=\"a_node2\"><a xlink:title=\"erdantic.examples.dataclasses.Party&#10;&#10;A group of adventurers finding themselves doing and saying things altogether unexpected.&#10;&#10;Attributes:&#10; &#160;&#160;&#160;name (str): Name that party is known by&#10; &#160;&#160;&#160;formed_datetime (datetime): Timestamp of when the party was formed&#10; &#160;&#160;&#160;members (List[Adventurer]): Adventurers that belong to this party&#10; &#160;&#160;&#160;active_quest (Optional[Quest]): Current quest that party is actively tackling\">\n",
       "<polygon fill=\"none\" stroke=\"black\" points=\"0,-279 0,-300 198,-300 198,-279 0,-279\"/>\n",
       "<text text-anchor=\"start\" x=\"82.5\" y=\"-286.8\" font-family=\"Times,serif\" font-weight=\"bold\" font-size=\"14.00\">Party</text>\n",
       "<polygon fill=\"none\" stroke=\"black\" points=\"0,-258 0,-279 100,-279 100,-258 0,-258\"/>\n",
       "<text text-anchor=\"start\" x=\"34.5\" y=\"-264.8\" font-family=\"Times,serif\" font-size=\"14.00\">name</text>\n",
       "<polygon fill=\"none\" stroke=\"black\" points=\"100,-258 100,-279 198,-279 198,-258 100,-258\"/>\n",
       "<text text-anchor=\"start\" x=\"142\" y=\"-264.8\" font-family=\"Times,serif\" font-size=\"14.00\">str</text>\n",
       "<polygon fill=\"none\" stroke=\"black\" points=\"0,-237 0,-258 100,-258 100,-237 0,-237\"/>\n",
       "<text text-anchor=\"start\" x=\"3\" y=\"-243.8\" font-family=\"Times,serif\" font-size=\"14.00\">formed_datetime</text>\n",
       "<polygon fill=\"none\" stroke=\"black\" points=\"100,-237 100,-258 198,-258 198,-237 100,-237\"/>\n",
       "<text text-anchor=\"start\" x=\"125\" y=\"-243.8\" font-family=\"Times,serif\" font-size=\"14.00\">datetime</text>\n",
       "<polygon fill=\"none\" stroke=\"black\" points=\"0,-216 0,-237 100,-237 100,-216 0,-216\"/>\n",
       "<text text-anchor=\"start\" x=\"24\" y=\"-222.8\" font-family=\"Times,serif\" font-size=\"14.00\">members</text>\n",
       "<polygon fill=\"none\" stroke=\"black\" points=\"100,-216 100,-237 198,-237 198,-216 100,-216\"/>\n",
       "<text text-anchor=\"start\" x=\"103\" y=\"-222.8\" font-family=\"Times,serif\" font-size=\"14.00\">List[Adventurer]</text>\n",
       "<polygon fill=\"none\" stroke=\"black\" points=\"0,-195 0,-216 100,-216 100,-195 0,-195\"/>\n",
       "<text text-anchor=\"start\" x=\"16\" y=\"-201.8\" font-family=\"Times,serif\" font-size=\"14.00\">active_quest</text>\n",
       "<polygon fill=\"none\" stroke=\"black\" points=\"100,-195 100,-216 198,-216 198,-195 100,-195\"/>\n",
       "<text text-anchor=\"start\" x=\"105\" y=\"-201.8\" font-family=\"Times,serif\" font-size=\"14.00\">Optional[Quest]</text>\n",
       "</a>\n",
       "</g>\n",
       "</g>\n",
       "<!-- Party&#45;&gt;Adventurer -->\n",
       "<g id=\"edge1\" class=\"edge\">\n",
       "<title>Party:e&#45;&gt;Adventurer:w</title>\n",
       "<path fill=\"none\" stroke=\"black\" d=\"M198,-226C248.6,-226 249.28,-281.09 287.99,-294.22\"/>\n",
       "<polygon fill=\"black\" stroke=\"black\" points=\"296.12,-295.47 305.31,-301.45 301.06,-296.24 306,-297 306,-297 306,-297 301.06,-296.24 306.69,-292.55 296.12,-295.47 296.12,-295.47\"/>\n",
       "<ellipse fill=\"none\" stroke=\"black\" cx=\"292.16\" cy=\"-294.86\" rx=\"4\" ry=\"4\"/>\n",
       "</g>\n",
       "<!-- Quest -->\n",
       "<g id=\"node3\" class=\"node\">\n",
       "<title>Quest</title>\n",
       "<g id=\"a_node3\"><a xlink:title=\"erdantic.examples.dataclasses.Quest&#10;&#10;A task to complete, with some monetary reward.&#10;&#10;Attributes:&#10; &#160;&#160;&#160;name (str): Name by which this quest is referred to&#10; &#160;&#160;&#160;giver (QuestGiver): Person who offered the quest&#10; &#160;&#160;&#160;reward_gold (int): Amount of gold to be rewarded for quest completion\">\n",
       "<polygon fill=\"none\" stroke=\"black\" points=\"347,-124 347,-145 491,-145 491,-124 347,-124\"/>\n",
       "<text text-anchor=\"start\" x=\"401.5\" y=\"-131.8\" font-family=\"Times,serif\" font-weight=\"bold\" font-size=\"14.00\">Quest</text>\n",
       "<polygon fill=\"none\" stroke=\"black\" points=\"347,-103 347,-124 422,-124 422,-103 347,-103\"/>\n",
       "<text text-anchor=\"start\" x=\"369\" y=\"-109.8\" font-family=\"Times,serif\" font-size=\"14.00\">name</text>\n",
       "<polygon fill=\"none\" stroke=\"black\" points=\"422,-103 422,-124 491,-124 491,-103 422,-103\"/>\n",
       "<text text-anchor=\"start\" x=\"449.5\" y=\"-109.8\" font-family=\"Times,serif\" font-size=\"14.00\">str</text>\n",
       "<polygon fill=\"none\" stroke=\"black\" points=\"347,-82 347,-103 422,-103 422,-82 347,-82\"/>\n",
       "<text text-anchor=\"start\" x=\"370.5\" y=\"-88.8\" font-family=\"Times,serif\" font-size=\"14.00\">giver</text>\n",
       "<polygon fill=\"none\" stroke=\"black\" points=\"422,-82 422,-103 491,-103 491,-82 422,-82\"/>\n",
       "<text text-anchor=\"start\" x=\"425\" y=\"-88.8\" font-family=\"Times,serif\" font-size=\"14.00\">QuestGiver</text>\n",
       "<polygon fill=\"none\" stroke=\"black\" points=\"347,-61 347,-82 422,-82 422,-61 347,-61\"/>\n",
       "<text text-anchor=\"start\" x=\"350\" y=\"-67.8\" font-family=\"Times,serif\" font-size=\"14.00\">reward_gold</text>\n",
       "<polygon fill=\"none\" stroke=\"black\" points=\"422,-61 422,-82 491,-82 491,-61 422,-61\"/>\n",
       "<text text-anchor=\"start\" x=\"449\" y=\"-67.8\" font-family=\"Times,serif\" font-size=\"14.00\">int</text>\n",
       "</a>\n",
       "</g>\n",
       "</g>\n",
       "<!-- Party&#45;&gt;Quest -->\n",
       "<g id=\"edge2\" class=\"edge\">\n",
       "<title>Party:e&#45;&gt;Quest:w</title>\n",
       "<path fill=\"none\" stroke=\"black\" d=\"M198,-205C264.23,-205 272.22,-147.01 327.99,-136.59\"/>\n",
       "<polyline fill=\"none\" stroke=\"black\" points=\"346,-135 341.02,-135.44 \"/>\n",
       "<polygon fill=\"black\" stroke=\"black\" points=\"339.58,-130.55 340.46,-140.51 338.47,-140.69 337.59,-130.72 339.58,-130.55\"/>\n",
       "<polyline fill=\"none\" stroke=\"black\" points=\"341.02,-135.44 336.04,-135.88 \"/>\n",
       "<ellipse fill=\"none\" stroke=\"black\" cx=\"332.05\" cy=\"-136.23\" rx=\"4\" ry=\"4\"/>\n",
       "</g>\n",
       "<!-- QuestGiver -->\n",
       "<g id=\"node4\" class=\"node\">\n",
       "<title>QuestGiver</title>\n",
       "<g id=\"a_node4\"><a xlink:title=\"erdantic.examples.dataclasses.QuestGiver&#10;&#10;A person who offers a task that needs completing.&#10;&#10;Attributes:&#10; &#160;&#160;&#160;name (str): Name of this quest giver&#10; &#160;&#160;&#160;faction (str): Faction that this quest giver belongs to&#10; &#160;&#160;&#160;location (str): Location this quest giver can be found\">\n",
       "<polygon fill=\"none\" stroke=\"black\" points=\"640,-81 640,-102 766,-102 766,-81 640,-81\"/>\n",
       "<text text-anchor=\"start\" x=\"668.5\" y=\"-88.8\" font-family=\"Times,serif\" font-weight=\"bold\" font-size=\"14.00\">QuestGiver</text>\n",
       "<polygon fill=\"none\" stroke=\"black\" points=\"640,-60 640,-81 690,-81 690,-60 640,-60\"/>\n",
       "<text text-anchor=\"start\" x=\"649.5\" y=\"-66.8\" font-family=\"Times,serif\" font-size=\"14.00\">name</text>\n",
       "<polygon fill=\"none\" stroke=\"black\" points=\"690,-60 690,-81 766,-81 766,-60 690,-60\"/>\n",
       "<text text-anchor=\"start\" x=\"721\" y=\"-66.8\" font-family=\"Times,serif\" font-size=\"14.00\">str</text>\n",
       "<polygon fill=\"none\" stroke=\"black\" points=\"640,-39 640,-60 690,-60 690,-39 640,-39\"/>\n",
       "<text text-anchor=\"start\" x=\"646\" y=\"-45.8\" font-family=\"Times,serif\" font-size=\"14.00\">faction</text>\n",
       "<polygon fill=\"none\" stroke=\"black\" points=\"690,-39 690,-60 766,-60 766,-39 690,-39\"/>\n",
       "<text text-anchor=\"start\" x=\"693\" y=\"-45.8\" font-family=\"Times,serif\" font-size=\"14.00\">Optional[str]</text>\n",
       "<polygon fill=\"none\" stroke=\"black\" points=\"640,-18 640,-39 690,-39 690,-18 640,-18\"/>\n",
       "<text text-anchor=\"start\" x=\"643\" y=\"-24.8\" font-family=\"Times,serif\" font-size=\"14.00\">location</text>\n",
       "<polygon fill=\"none\" stroke=\"black\" points=\"690,-18 690,-39 766,-39 766,-18 690,-18\"/>\n",
       "<text text-anchor=\"start\" x=\"721\" y=\"-24.8\" font-family=\"Times,serif\" font-size=\"14.00\">str</text>\n",
       "</a>\n",
       "</g>\n",
       "</g>\n",
       "<!-- Quest&#45;&gt;QuestGiver -->\n",
       "<g id=\"edge3\" class=\"edge\">\n",
       "<title>Quest:e&#45;&gt;QuestGiver:w</title>\n",
       "<path fill=\"none\" stroke=\"black\" d=\"M492,-92C552.38,-92 571.19,-92 624.75,-92\"/>\n",
       "<polyline fill=\"none\" stroke=\"black\" points=\"640,-92 635,-92 \"/>\n",
       "<polygon fill=\"black\" stroke=\"black\" points=\"634,-87 634,-97 632,-97 632,-87 634,-87\"/>\n",
       "<polyline fill=\"none\" stroke=\"black\" points=\"635,-92 630,-92 \"/>\n",
       "<polygon fill=\"black\" stroke=\"black\" points=\"629,-87 629,-97 627,-97 627,-87 629,-87\"/>\n",
       "<polyline fill=\"none\" stroke=\"black\" points=\"630,-92 625,-92 \"/>\n",
       "</g>\n",
       "</g>\n",
       "</svg>\n"
      ],
      "text/plain": [
       "EntityRelationshipDiagram(models=[DataClassModel(Adventurer), DataClassModel(Party), DataClassModel(Quest), DataClassModel(QuestGiver)], edges=[Edge(source=DataClassModel(Party), source_field=<DataClassField: 'members', List[Adventurer]>, target=DataClassModel(Adventurer)), Edge(source=DataClassModel(Party), source_field=<DataClassField: 'active_quest', Optional[Quest]>, target=DataClassModel(Quest)), Edge(source=DataClassModel(Quest), source_field=<DataClassField: 'giver', QuestGiver>, target=DataClassModel(QuestGiver))])"
      ]
     },
     "execution_count": 3,
     "metadata": {},
     "output_type": "execute_result"
    }
   ],
   "source": [
    "import erdantic as erd\n",
    "from erdantic.examples.dataclasses import Party\n",
    "\n",
    "\n",
    "diagram = erd.create(Party)\n",
    "diagram"
   ]
  },
  {
   "cell_type": "code",
   "execution_count": 4,
   "id": "plain-operator",
   "metadata": {},
   "outputs": [
    {
     "data": {
      "text/plain": [
       "[DataClassModel(Adventurer),\n",
       " DataClassModel(Party),\n",
       " DataClassModel(Quest),\n",
       " DataClassModel(QuestGiver)]"
      ]
     },
     "execution_count": 4,
     "metadata": {},
     "output_type": "execute_result"
    }
   ],
   "source": [
    "diagram.models"
   ]
  },
  {
   "cell_type": "code",
   "execution_count": 5,
   "id": "separated-characteristic",
   "metadata": {},
   "outputs": [
    {
     "data": {
      "text/plain": [
       "[Edge(source=DataClassModel(Party), source_field=<DataClassField: 'members', List[Adventurer]>, target=DataClassModel(Adventurer)),\n",
       " Edge(source=DataClassModel(Party), source_field=<DataClassField: 'active_quest', Optional[Quest]>, target=DataClassModel(Quest)),\n",
       " Edge(source=DataClassModel(Quest), source_field=<DataClassField: 'giver', QuestGiver>, target=DataClassModel(QuestGiver))]"
      ]
     },
     "execution_count": 5,
     "metadata": {},
     "output_type": "execute_result"
    }
   ],
   "source": [
    "diagram.edges"
   ]
  },
  {
   "cell_type": "markdown",
   "id": "legislative-waters",
   "metadata": {},
   "source": [
    "You can use the `draw` method to render the diagram to disk."
   ]
  },
  {
   "cell_type": "code",
   "execution_count": 6,
   "id": "pharmaceutical-miniature",
   "metadata": {},
   "outputs": [],
   "source": [
    "diagram.draw(\"dataclasses.svg\")\n",
    "\n",
    "# Equivalently, use erd.draw directly from Party\n",
    "# erd.draw(Party, out=\"dataclasses.svg\")"
   ]
  },
  {
   "cell_type": "markdown",
   "id": "framed-somewhere",
   "metadata": {},
   "source": [
    "erdantic uses [Graphviz](https://graphviz.org/), a venerable open-source C library, to create the diagram. Graphviz uses the [DOT language](https://graphviz.org/doc/info/lang.html) for describing graphs. You use the `to_dot` method to get the DOT representation as a string. "
   ]
  },
  {
   "cell_type": "code",
   "execution_count": 7,
   "id": "accredited-professional",
   "metadata": {},
   "outputs": [
    {
     "name": "stdout",
     "output_type": "stream",
     "text": [
      "digraph \"Entity Relationship Diagram\" {\n",
      "\tgraph [fontcolor=gray66,\n",
      "\t\tfontsize=9,\n",
      "\t\tlabel=\"Created by erdantic v0.1.0 <https://github.com/drivendataorg/erdantic>\",\n",
      "\t\tnodesep=0.5,\n",
      "\t\trankdir=LR,\n",
      "\t\tranksep=1.5\n",
      "\t];\n",
      "\tnode [fontsize=14,\n",
      "\t\tlabel=\"\\N\",\n",
      "\t\tshape=plain\n",
      "\t];\n",
      "\tAdventurer\t[label=<<table border=\"0\" cellborder=\"1\" cellspacing=\"0\"><tr><td port=\"_root\" colspan=\"2\"><b>Adventurer</b></td></tr><tr><td>name</td><td port=\"name\">str</td></tr><tr><td>profession</td><td port=\"profession\">str</td></tr><tr><td>level</td><td port=\"level\">int</td></tr><tr><td>alignment_lc</td><td port=\"alignment_lc\">AlignmentLC(str, Enum)</td></tr><tr><td>alignment_ge</td><td port=\"alignment_ge\">AlignmentGE(str, Enum)</td></tr></table>>,\n",
      "\t\ttooltip=\"erdantic.examples.dataclasses.Adventurer&#xA;&#xA;A person often late for dinner but with a tale or two to tell.&#xA;&#xA;Attributes:&#\\\n",
      "xA;    name (str): Name of this adventurer&#xA;    profession (str): Profession of this adventurer&#xA;    level (int): Level of \\\n",
      "this adventurer&#xA;    alignment (int): Alignment of this adventurer\"];\n",
      "\tParty\t[label=<<table border=\"0\" cellborder=\"1\" cellspacing=\"0\"><tr><td port=\"_root\" colspan=\"2\"><b>Party</b></td></tr><tr><td>name</td><td port=\"name\">str</td></tr><tr><td>formed_datetime</td><td port=\"formed_datetime\">datetime</td></tr><tr><td>members</td><td port=\"members\">List[Adventurer]</td></tr><tr><td>active_quest</td><td port=\"active_quest\">Optional[Quest]</td></tr></table>>,\n",
      "\t\ttooltip=\"erdantic.examples.dataclasses.Party&#xA;&#xA;A group of adventurers finding themselves doing and saying things altogether unexpected.&#\\\n",
      "xA;&#xA;Attributes:&#xA;    name (str): Name that party is known by&#xA;    formed_datetime (datetime): Timestamp of when the party \\\n",
      "was formed&#xA;    members (List[Adventurer]): Adventurers that belong to this party&#xA;    active_quest (Optional[Quest]): Current \\\n",
      "quest that party is actively tackling\"];\n",
      "\tParty:members:e -> Adventurer:_root:w\t[arrowhead=crowodot];\n",
      "\tQuest\t[label=<<table border=\"0\" cellborder=\"1\" cellspacing=\"0\"><tr><td port=\"_root\" colspan=\"2\"><b>Quest</b></td></tr><tr><td>name</td><td port=\"name\">str</td></tr><tr><td>giver</td><td port=\"giver\">QuestGiver</td></tr><tr><td>reward_gold</td><td port=\"reward_gold\">int</td></tr></table>>,\n",
      "\t\ttooltip=\"erdantic.examples.dataclasses.Quest&#xA;&#xA;A task to complete, with some monetary reward.&#xA;&#xA;Attributes:&#xA;    name (str): \\\n",
      "Name by which this quest is referred to&#xA;    giver (QuestGiver): Person who offered the quest&#xA;    reward_gold (int): Amount \\\n",
      "of gold to be rewarded for quest completion\"];\n",
      "\tParty:active_quest:e -> Quest:_root:w\t[arrowhead=noneteeodot];\n",
      "\tQuestGiver\t[label=<<table border=\"0\" cellborder=\"1\" cellspacing=\"0\"><tr><td port=\"_root\" colspan=\"2\"><b>QuestGiver</b></td></tr><tr><td>name</td><td port=\"name\">str</td></tr><tr><td>faction</td><td port=\"faction\">Optional[str]</td></tr><tr><td>location</td><td port=\"location\">str</td></tr></table>>,\n",
      "\t\ttooltip=\"erdantic.examples.dataclasses.QuestGiver&#xA;&#xA;A person who offers a task that needs completing.&#xA;&#xA;Attributes:&#xA;    \\\n",
      "name (str): Name of this quest giver&#xA;    faction (str): Faction that this quest giver belongs to&#xA;    location (str): Location \\\n",
      "this quest giver can be found\"];\n",
      "\tQuest:giver:e -> QuestGiver:_root:w\t[arrowhead=noneteetee];\n",
      "}\n",
      "\n"
     ]
    }
   ],
   "source": [
    "print(diagram.to_dot())\n",
    "\n",
    "# Equivalently, use erd.to_dot directly from Party\n",
    "assert diagram.to_dot() == erd.to_dot(Party)"
   ]
  }
 ],
 "metadata": {
  "kernelspec": {
   "display_name": "Python 3",
   "language": "python",
   "name": "python3"
  },
  "language_info": {
   "codemirror_mode": {
    "name": "ipython",
    "version": 3
   },
   "file_extension": ".py",
   "mimetype": "text/x-python",
   "name": "python",
   "nbconvert_exporter": "python",
   "pygments_lexer": "ipython3",
   "version": "3.9.1"
  }
 },
 "nbformat": 4,
 "nbformat_minor": 5
}
